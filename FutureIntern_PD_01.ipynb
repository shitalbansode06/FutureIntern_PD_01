{
  "nbformat": 4,
  "nbformat_minor": 0,
  "metadata": {
    "colab": {
      "provenance": []
    },
    "kernelspec": {
      "name": "python3",
      "display_name": "Python 3"
    },
    "language_info": {
      "name": "python"
    }
  },
  "cells": [
    {
      "cell_type": "code",
      "execution_count": 8,
      "metadata": {
        "colab": {
          "base_uri": "https://localhost:8080/"
        },
        "id": "Q5r57WMglxah",
        "outputId": "093f43ba-69a0-48ed-eb36-ba48744343e6"
      },
      "outputs": [
        {
          "name": "stdout",
          "output_type": "stream",
          "text": [
            "Select operation.\n",
            "1.Add\n",
            "2.Subtract\n",
            "3.Multiply\n",
            "4.Divide\n",
            "Enter choice(1/2/3/4): 3\n",
            "Enter first number: 7\n",
            "Enter second number: 9\n",
            "7.0 * 9.0 = 63.0\n",
            "Let's do next calculation? (yes/no): no\n"
          ]
        }
      ],
      "source": [
        "# This function adds two numbers\n",
        "def add(x, y):\n",
        "    return x + y\n",
        "\n",
        "# This function subtracts two numbers\n",
        "def subtract(x, y):\n",
        "    return x - y\n",
        "\n",
        "# This function multiplies two numbers\n",
        "def multiply(x, y):\n",
        "    return x * y\n",
        "\n",
        "# This function divides two numbers\n",
        "def divide(x, y):\n",
        "    return x / y\n",
        "\n",
        "\n",
        "print(\"Select operation.\")\n",
        "print(\"1.Add\")\n",
        "print(\"2.Subtract\")\n",
        "print(\"3.Multiply\")\n",
        "print(\"4.Divide\")\n",
        "\n",
        "while True:\n",
        "    # take input from the user\n",
        "    choice = input(\"Enter choice(1/2/3/4): \")\n",
        "\n",
        "    # check if choice is one of the four options\n",
        "    if choice in ('1', '2', '3', '4'):\n",
        "        try:\n",
        "            num1 = float(input(\"Enter first number: \"))\n",
        "            num2 = float(input(\"Enter second number: \"))\n",
        "        except ValueError:\n",
        "            print(\"Invalid input. Please enter a number.\")\n",
        "            continue\n",
        "\n",
        "        if choice == '1':\n",
        "            print(num1, \"+\", num2, \"=\", add(num1, num2))\n",
        "\n",
        "        elif choice == '2':\n",
        "            print(num1, \"-\", num2, \"=\", subtract(num1, num2))\n",
        "\n",
        "        elif choice == '3':\n",
        "            print(num1, \"*\", num2, \"=\", multiply(num1, num2))\n",
        "\n",
        "        elif choice == '4':\n",
        "            print(num1, \"/\", num2, \"=\", divide(num1, num2))\n",
        "\n",
        "        # check if user wants another calculation\n",
        "        # break the while loop if answer is no\n",
        "        next_calculation = input(\"Let's do next calculation? (yes/no): \")\n",
        "        if next_calculation == \"no\":\n",
        "          break\n",
        "    else:\n",
        "        print(\"Invalid Input\")"
      ]
    },
    {
      "cell_type": "code",
      "source": [
        "import random\n",
        "\n",
        "def number_guessing_game():\n",
        "    number_to_guess = random.randint(1, 100)\n",
        "    guess = None\n",
        "\n",
        "    print(\"Welcome to the Number Guessing Game!\")\n",
        "    print(\"I have selected a number between 1 and 100. Try to guess it!\")\n",
        "\n",
        "    while guess != number_to_guess:\n",
        "        try:\n",
        "            guess = int(input(\"Enter your guess: \"))\n",
        "\n",
        "            if guess < number_to_guess:\n",
        "                print(\"Too low! Try again.\")\n",
        "            elif guess > number_to_guess:\n",
        "                print(\"Too high! Try again.\")\n",
        "            else:\n",
        "                print(\"Congratulations! You guessed the correct number.\")\n",
        "        except ValueError:\n",
        "            print(\"Invalid input. Please enter an integer between 1 and 100.\")\n",
        "\n",
        "number_guessing_game()"
      ],
      "metadata": {
        "colab": {
          "base_uri": "https://localhost:8080/"
        },
        "id": "XyMJzpltwBCi",
        "outputId": "f1a55b8d-a663-4e1e-b14a-7997fa2d036f"
      },
      "execution_count": 7,
      "outputs": [
        {
          "output_type": "stream",
          "name": "stdout",
          "text": [
            "Welcome to the Number Guessing Game!\n",
            "I have selected a number between 1 and 100. Try to guess it!\n",
            "Enter your guess: 20\n",
            "Too low! Try again.\n",
            "Enter your guess: 40\n",
            "Too low! Try again.\n",
            "Enter your guess: 50\n",
            "Too low! Try again.\n",
            "Enter your guess: 60\n",
            "Too low! Try again.\n",
            "Enter your guess: 70\n",
            "Too low! Try again.\n",
            "Enter your guess: 80\n",
            "Too low! Try again.\n",
            "Enter your guess: 90\n",
            "Congratulations! You guessed the correct number.\n"
          ]
        }
      ]
    }
  ]
}